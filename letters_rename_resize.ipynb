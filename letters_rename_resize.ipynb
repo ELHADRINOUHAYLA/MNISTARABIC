{
  "cells": [
    {
      "cell_type": "markdown",
      "metadata": {
        "id": "view-in-github",
        "colab_type": "text"
      },
      "source": [
        "<a href=\"https://colab.research.google.com/github/ELHADRINOUHAYLA/MNISTARABIC/blob/main/letters_rename_resize.ipynb\" target=\"_parent\"><img src=\"https://colab.research.google.com/assets/colab-badge.svg\" alt=\"Open In Colab\"/></a>"
      ]
    },
    {
      "cell_type": "code",
      "execution_count": null,
      "metadata": {
        "id": "lYbTCvkOoKzm"
      },
      "outputs": [],
      "source": [
        "from PIL import ImageChops,Image\n",
        "import matplotlib.pyplot as plt\n",
        "import numpy as np\n",
        "import glob\n",
        "import cv2\n"
      ]
    },
    {
      "cell_type": "code",
      "execution_count": null,
      "metadata": {
        "id": "ZBg2c9bvoKz4"
      },
      "outputs": [],
      "source": [
        "def trim(image):\n",
        "    image=Image.fromarray(image)\n",
        "    bg = Image.new(image.mode, image.size, image.getpixel((0,0)))\n",
        "    diff = ImageChops.difference(image, bg)\n",
        "    diff = ImageChops.add(diff, diff, 2.0, -100)\n",
        "    bbox = diff.getbbox()\n",
        "    if bbox:\n",
        "        return np.array(image.crop(bbox))\n",
        "def image_resize(image, width = None, height = None, inter = cv2.INTER_AREA):\n",
        "    dim = None\n",
        "    (h, w) = image.shape[:2]\n",
        "    if width is None and height is None:\n",
        "        return image\n",
        "    if width is None:\n",
        "        r = height / float(h)\n",
        "        dim = (int(w * r), height)\n",
        "    else:\n",
        "        r = width / float(w)\n",
        "        dim = (width, int(h * r))\n",
        "    resized = cv2.resize(image, dim, interpolation = inter)\n",
        "    return resized\n",
        "def cleaned_image(image_path):\n",
        "    image=cv2.imread(image_path)\n",
        "    bg=np.zeros((32,32))\n",
        "    image=trim(image)\n",
        "    image=image_resize(image,height=28)\n",
        "    image_gray = cv2.cvtColor(image, cv2.COLOR_BGR2GRAY)\n",
        "    thresh, image_binary = cv2.threshold(image_gray, 128, 255, cv2.THRESH_BINARY + cv2.THRESH_OTSU)\n",
        "    hh, ww = bg.shape\n",
        "    h, w = image_binary.shape\n",
        "    yoff = round((hh-h)/2)\n",
        "    xoff = round((ww-w)/2)\n",
        "    if xoff<=0:\n",
        "        image=image_resize(image,height=28,width=28)\n",
        "        image_gray = cv2.cvtColor(image, cv2.COLOR_BGR2GRAY)\n",
        "        thresh, image_binary = cv2.threshold(image_gray, 128, 255, cv2.THRESH_BINARY + cv2.THRESH_OTSU)\n",
        "        h, w = image_binary.shape\n",
        "        yoff = round((hh-h)/2)\n",
        "        xoff = round((ww-w)/2)\n",
        "    result = bg.copy()\n",
        "    result[yoff:yoff+h, xoff:xoff+w] = image_binary\n",
        "    return result"
      ]
    },
    {
      "cell_type": "code",
      "execution_count": null,
      "metadata": {
        "id": "sAQgBGiPoKz9"
      },
      "outputs": [],
      "source": [
        "import os\n",
        "import glob\n",
        "def create_directory(path):\n",
        "    if not os.path.exists(path):\n",
        "        os.makedirs(path)\n",
        "def create_dataset(input,output,name):\n",
        "    for char in glob.iglob(input+'/*'):\n",
        "        char_name=char.split('\\\\')[-1].lower()\n",
        "        for type in glob.iglob(char+'/*'):\n",
        "            type_name=type.split('\\\\')[-1].lower()\n",
        "            i=0\n",
        "            for image_path in glob.iglob(type+'/*'):\n",
        "                create_directory(output)\n",
        "                create_directory(output+'/'+char_name)\n",
        "                create_directory(output+'/'+char_name+'/'+type_name)\n",
        "                ext=image_path.split('\\\\')[-1].split('.')[1].lower()\n",
        "                cv2.imwrite(output+'/'+char_name+'/'+type_name+'/'+name+'_'+str(i)+\"_\"+type_name+\".\"+ext,cleaned_image(image_path))\n",
        "                i+=1"
      ]
    },
    {
      "cell_type": "code",
      "execution_count": null,
      "metadata": {
        "id": "tvMwfAOpoK0m"
      },
      "outputs": [],
      "source": [
        "create_dataset(input='data/letters',output='letter',name='hicham_achahboun')"
      ]
    }
  ],
  "metadata": {
    "kernelspec": {
      "display_name": "Python 3.10.7 64-bit",
      "language": "python",
      "name": "python3"
    },
    "language_info": {
      "codemirror_mode": {
        "name": "ipython",
        "version": 3
      },
      "file_extension": ".py",
      "mimetype": "text/x-python",
      "name": "python",
      "nbconvert_exporter": "python",
      "pygments_lexer": "ipython3",
      "version": "3.10.7"
    },
    "orig_nbformat": 4,
    "vscode": {
      "interpreter": {
        "hash": "369f2c481f4da34e4445cda3fffd2e751bd1c4d706f27375911949ba6bb62e1c"
      }
    },
    "colab": {
      "provenance": [],
      "include_colab_link": true
    }
  },
  "nbformat": 4,
  "nbformat_minor": 0
}